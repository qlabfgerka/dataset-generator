{
 "cells": [
  {
   "cell_type": "code",
   "execution_count": 2,
   "metadata": {},
   "outputs": [],
   "source": [
    "import requests\n",
    "import io\n",
    "import base64\n",
    "import utils\n",
    "from PIL import Image\n",
    "\n",
    "API_URL = \"http://127.0.0.1:7861/sdapi/v1/txt2img\"\n",
    "payload = utils.prepare_payload(\"payload\")\n",
    "\n",
    "response = requests.post(API_URL, json=payload).json()\n",
    "\n",
    "image = Image.open(io.BytesIO(base64.b64decode(response[\"images\"][0])))\n",
    "image.show()\n",
    "image.save(\"output.png\")"
   ]
  }
 ],
 "metadata": {
  "kernelspec": {
   "display_name": "Python 3",
   "language": "python",
   "name": "python3"
  },
  "language_info": {
   "codemirror_mode": {
    "name": "ipython",
    "version": 3
   },
   "file_extension": ".py",
   "mimetype": "text/x-python",
   "name": "python",
   "nbconvert_exporter": "python",
   "pygments_lexer": "ipython3",
   "version": "3.10.2"
  },
  "orig_nbformat": 4
 },
 "nbformat": 4,
 "nbformat_minor": 2
}
