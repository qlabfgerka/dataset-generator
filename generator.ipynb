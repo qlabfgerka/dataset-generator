{
 "cells": [
  {
   "cell_type": "code",
   "execution_count": null,
   "metadata": {},
   "outputs": [],
   "source": [
    "import requests\n",
    "import io\n",
    "import base64\n",
    "import utils\n",
    "import random\n",
    "from PIL import Image\n",
    "from pathlib import Path\n",
    "\n",
    "API_URL = \"http://127.0.0.1:7861/sdapi/v1/txt2img\"\n",
    "SPLIT = 0.8\n",
    "ITERATIONS = 10000\n",
    "START = 0\n",
    "\n",
    "PROMPTS_PATH = \"imagenet1k.json\"\n",
    "\n",
    "DATASET = \"imagenet1k\"\n",
    "TRAIN_DIRECTORY = Path(f\"outputs/{DATASET}/train/fake\")\n",
    "TRAIN_DIRECTORY.mkdir(parents=True, exist_ok=True)\n",
    "\n",
    "TEST_DIRECTORY = Path(f\"outputs/{DATASET}/test/fake\")\n",
    "TEST_DIRECTORY.mkdir(parents=True, exist_ok=True)\n",
    "\n",
    "ITERATION_THRESHOLD = int(SPLIT * ITERATIONS)"
   ]
  },
  {
   "cell_type": "code",
   "execution_count": null,
   "metadata": {},
   "outputs": [],
   "source": [
    "prompts = utils.get_prompts(PROMPTS_PATH)\n",
    "print(prompts[:10])\n",
    "print(len(prompts))"
   ]
  },
  {
   "cell_type": "code",
   "execution_count": null,
   "metadata": {},
   "outputs": [],
   "source": [
    "for i in range(START, ITERATIONS):\n",
    "  print(f\"Generating image: {i + 1}/{ITERATIONS}\")\n",
    "  prompt = random.choice(prompts)\n",
    "  payload = utils.prepare_payload(prompt, amount=1)\n",
    "\n",
    "  response = requests.post(API_URL, json=payload).json()\n",
    "\n",
    "  for index, image in enumerate(response[\"images\"]):\n",
    "    image = Image.open(io.BytesIO(base64.b64decode(image)))\n",
    "    \n",
    "    if i < ITERATION_THRESHOLD:\n",
    "      save_path = TRAIN_DIRECTORY / f\"{i}-{index}-{prompt}.png\"\n",
    "    else:\n",
    "      save_path = TEST_DIRECTORY / f\"{i}-{index}-{prompt}.png\"\n",
    "      \n",
    "    image.save(save_path)"
   ]
  }
 ],
 "metadata": {
  "kernelspec": {
   "display_name": "Python 3",
   "language": "python",
   "name": "python3"
  },
  "language_info": {
   "codemirror_mode": {
    "name": "ipython",
    "version": 3
   },
   "file_extension": ".py",
   "mimetype": "text/x-python",
   "name": "python",
   "nbconvert_exporter": "python",
   "pygments_lexer": "ipython3",
   "version": "3.10.2"
  },
  "orig_nbformat": 4
 },
 "nbformat": 4,
 "nbformat_minor": 2
}
